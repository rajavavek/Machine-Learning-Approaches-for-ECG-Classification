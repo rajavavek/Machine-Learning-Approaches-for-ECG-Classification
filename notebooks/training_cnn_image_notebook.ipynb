{
  "nbformat": 4,
  "nbformat_minor": 0,
  "metadata": {
    "colab": {
      "name": "training_cnn_image_notebook.ipynb",
      "provenance": [],
      "collapsed_sections": [],
      "toc_visible": true
    },
    "kernelspec": {
      "name": "python3",
      "display_name": "Python 3"
    },
    "language_info": {
      "name": "python"
    },
    "accelerator": "GPU"
  },
  "cells": [
    {
      "cell_type": "markdown",
      "source": [
        "## Train a model\n",
        "The structure is git clone https://{token}@github.com/repo\n",
        "\n",
        "to find your token you should go to github settings->developers settings->personal access tokens"
      ],
      "metadata": {
        "id": "YNJGs3Qg441K"
      }
    },
    {
      "cell_type": "code",
      "source": [
        "! git clone https://ghp_HdQQ4PHL3qE2D9zJSKLOW002odOAv@github.com/calde97/ECG-Arrhythmia-classification\\"
      ],
      "metadata": {
        "id": "16GuqytNvYRx"
      },
      "execution_count": null,
      "outputs": []
    },
    {
      "cell_type": "code",
      "source": [
        "%cd ECG-Arrhythmia-classification/"
      ],
      "metadata": {
        "colab": {
          "base_uri": "https://localhost:8080/"
        },
        "id": "uTH35aesxGDd",
        "outputId": "2222c97e-a91c-40c7-e7e8-d02a032850cb"
      },
      "execution_count": null,
      "outputs": [
        {
          "output_type": "stream",
          "name": "stdout",
          "text": [
            "/content/ECG-Arrhythmia-classification\n"
          ]
        }
      ]
    },
    {
      "cell_type": "code",
      "source": [
        "% pip install -r requirements.txt"
      ],
      "metadata": {
        "id": "TdNIQ3hD5hn1"
      },
      "execution_count": null,
      "outputs": []
    },
    {
      "cell_type": "code",
      "source": [
        "# Just if you want to monitor also with weight and biases otherwise you can skipt this cell\n",
        "!wandb login \"Insert your wand key HERE\""
      ],
      "metadata": {
        "id": "9cmUvFGyy4qj"
      },
      "execution_count": null,
      "outputs": []
    },
    {
      "cell_type": "markdown",
      "source": [
        "Run training with all the parameters defined. If you type --h you can see the meaning of the parameters"
      ],
      "metadata": {
        "id": "g9I12wjBk1_C"
      }
    },
    {
      "cell_type": "code",
      "source": [
        "!python3 training.py  --us_card 300000 --os_card 100000 --lr 3e-4 --model ResNetStep --img_size 32 --bs 512 --flag all --patience 50 --wand_monitoring n --wand_project_name AppliedAI --wand_account juancalderon"
      ],
      "metadata": {
        "id": "xXKfez0jxXLv"
      },
      "execution_count": null,
      "outputs": []
    },
    {
      "cell_type": "markdown",
      "source": [
        "Run training with default parameters. In this case we are not using weight and biases"
      ],
      "metadata": {
        "id": "yY65efhaksVo"
      }
    },
    {
      "cell_type": "code",
      "source": [
        "!python3 training.py  --us_card 300000 --os_card 100000 --lr 3e-4 --model ResNetStep"
      ],
      "metadata": {
        "id": "SnUsdUECkfi4"
      },
      "execution_count": null,
      "outputs": []
    }
  ]
}
